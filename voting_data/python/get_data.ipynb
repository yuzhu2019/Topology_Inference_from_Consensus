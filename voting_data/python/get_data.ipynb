{
 "cells": [
  {
   "cell_type": "code",
   "execution_count": 1,
   "metadata": {},
   "outputs": [],
   "source": [
    "import numpy as np\n",
    "import pandas as pd\n",
    "import scipy.io as scio\n",
    "import matplotlib.pyplot as plt\n",
    "\n",
    "N_state = 50 # number of states\n",
    "N_mem = 100  # number of members (2 members per state)\n",
    "N_roll = 502 # number of rolls\n",
    "\n",
    "S114_members = pd.read_csv(\"S114_members.csv\")\n",
    "S114_votes = pd.read_csv(\"S114_votes.csv\")\n",
    "\n",
    "member_114 = S114_members[['icpsr','state_icpsr']]        # [100 rows x 2 columns]\n",
    "vote_114 = S114_votes[['rollnumber','icpsr','cast_code']] # [50200 rows x 3 columns]\n",
    "\n",
    "member_state = dict([(i,j) for i,j in zip(member_114.icpsr, member_114.state_icpsr)])"
   ]
  },
  {
   "cell_type": "code",
   "execution_count": 2,
   "metadata": {},
   "outputs": [],
   "source": [
    "# add three columns after vote_114\n",
    "col_name = vote_114.columns.tolist()\n",
    "col_name.insert(3,'opinion')  # quantify members' opinions (+1,-1,0)\n",
    "col_name.insert(4,'state')    # record members' states (state_icpsr)\n",
    "col_name.insert(5,'state_id') # re-index states (state_icpsr --> 0:49)\n",
    "vote_114 = vote_114.reindex(columns=col_name) # type: pandas.core.frame.DataFrame"
   ]
  },
  {
   "cell_type": "code",
   "execution_count": 3,
   "metadata": {},
   "outputs": [
    {
     "name": "stdout",
     "output_type": "stream",
     "text": [
      "0\n",
      "32118\n",
      "16400\n",
      "1682\n"
     ]
    }
   ],
   "source": [
    "# map cast_code to opinion (+1,-1,0)\n",
    "cnt1 = 0\n",
    "cnt2 = 0\n",
    "cnt3 = 0\n",
    "cnt4 = 0\n",
    "for i in np.arange(N_roll*N_mem):\n",
    "    if vote_114.iat[i,2] == 0:     # 0\n",
    "        vote_114.iat[i,3] = 0\n",
    "        cnt1 = cnt1 + 1\n",
    "    elif vote_114.iat[i,2] <= 3:   # {1,2,3}\n",
    "        vote_114.iat[i,3] = 1\n",
    "        cnt2 = cnt2 + 1\n",
    "    elif vote_114.iat[i,2] <= 6:   # {4,5,6}\n",
    "        vote_114.iat[i,3] = -1\n",
    "        cnt3 = cnt3 + 1\n",
    "    else:                          # others {7,8,9}\n",
    "        vote_114.iat[i,3] = 0\n",
    "        cnt4 = cnt4 + 1\n",
    "print(cnt1)\n",
    "print(cnt2)\n",
    "print(cnt3)\n",
    "print(cnt4)"
   ]
  },
  {
   "cell_type": "code",
   "execution_count": 4,
   "metadata": {},
   "outputs": [],
   "source": [
    "# find the state of each member\n",
    "for i in np.arange(N_roll*N_mem):\n",
    "    temp1 = vote_114.iat[i,1]\n",
    "    temp2 = member_state[temp1]\n",
    "    vote_114.iat[i,4] = temp2"
   ]
  },
  {
   "cell_type": "code",
   "execution_count": 5,
   "metadata": {},
   "outputs": [],
   "source": [
    "# map state_icpsr to 0:49\n",
    "state_id1 = np.arange(N_state)\n",
    "state_id2 = [1,2,3,4,5,6,11,12,13,14,21,22,23,24,25,31,32,33,34,35,36,37,40,41,42,43,44,45,46,47,48,49,51,52,53,54,56,61,62,63,64,65,66,67,68,71,72,73,81,82]\n",
    "#state_id2 = [1,2,3,4,5,6,11,12,13,14,21,22,23,24,25,31,32,33,34,35,36,37,40,41,42,43,44,45,46,47,48,49,51,52,53,54,56,61,62,63,64,65,66,67,68,71,72,73,81,82,99]\n",
    "state_dic = dict(zip(state_id2,state_id1))\n"
   ]
  },
  {
   "cell_type": "code",
   "execution_count": 6,
   "metadata": {},
   "outputs": [],
   "source": [
    "for i in np.arange(N_roll*N_mem):\n",
    "    temp1 = vote_114.iat[i,4]\n",
    "    temp2 = state_dic[temp1]\n",
    "    vote_114.iat[i,5] = temp2\n",
    "\n",
    "vote_114['state_id'] = vote_114['state_id'].astype(int)"
   ]
  },
  {
   "cell_type": "code",
   "execution_count": 7,
   "metadata": {},
   "outputs": [],
   "source": [
    "# combine the opinions of two members in a state \n",
    "data = np.zeros([N_roll,N_state])\n",
    "for i in np.arange(N_roll*N_mem):\n",
    "    idx_row = vote_114.iat[i,0]-1 # rollnumber\n",
    "    idx_col = vote_114.iat[i,5]   # state_id (0:49)\n",
    "    data[idx_row,idx_col] = data[idx_row,idx_col] + vote_114.iat[i,3]"
   ]
  },
  {
   "cell_type": "code",
   "execution_count": 8,
   "metadata": {},
   "outputs": [],
   "source": [
    "scio.savemat('data.mat', {'data':data})"
   ]
  },
  {
   "cell_type": "code",
   "execution_count": 9,
   "metadata": {},
   "outputs": [
    {
     "name": "stdout",
     "output_type": "stream",
     "text": [
      "[70.08254702 34.49215351  3.03138603  1.98536438  1.6537902   1.48004322\n",
      "  1.30732718  1.16004785  1.09890381  0.97053389  0.91910251  0.86382887\n",
      "  0.77980259  0.79645943  0.7045058   0.62446582  0.61847716  0.59116056\n",
      "  0.56650343  0.55776912  0.50375518  0.49139053  0.10282034  0.47118811\n",
      "  0.45957257  0.11482462  0.12037013  0.13093875  0.14226523  0.15796158\n",
      "  0.43541835  0.41979893  0.41352265  0.17474532  0.38187579  0.3757968\n",
      "  0.35897479  0.35125667  0.32925778  0.19657547  0.20060286  0.21744903\n",
      "  0.22541305  0.30487052  0.29757093  0.29039779  0.24430386  0.26978477\n",
      "  0.26294797  0.2591873 ]\n"
     ]
    }
   ],
   "source": [
    "S = np.cov(data,rowvar=False) # sample covariance\n",
    "S_e, S_v = np.linalg.eig(S)\n",
    "print(S_e)"
   ]
  },
  {
   "cell_type": "code",
   "execution_count": 10,
   "metadata": {},
   "outputs": [
    {
     "data": {
      "text/plain": [
       "[<matplotlib.lines.Line2D at 0xb1d59eeb8>]"
      ]
     },
     "execution_count": 10,
     "metadata": {},
     "output_type": "execute_result"
    },
    {
     "data": {
      "image/png": "[encoded data removed]",
      "text/plain": [
       "<Figure size 432x288 with 1 Axes>"
      ]
     },
     "metadata": {
      "needs_background": "light"
     },
     "output_type": "display_data"
    }
   ],
   "source": [
    "# observe three clusters\n",
    "leading_eigvec_sort = np.sort(S_v[:,0])\n",
    "plt.plot(leading_eigvec_sort,'r+')"
   ]
  },
  {
   "cell_type": "code",
   "execution_count": null,
   "metadata": {},
   "outputs": [],
   "source": []
  }
 ],
 "metadata": {
  "kernelspec": {
   "display_name": "Python 3",
   "language": "python",
   "name": "python3"
  },
  "language_info": {
   "codemirror_mode": {
    "name": "ipython",
    "version": 3
   },
   "file_extension": ".py",
   "mimetype": "text/x-python",
   "name": "python",
   "nbconvert_exporter": "python",
   "pygments_lexer": "ipython3",
   "version": "3.7.3"
  }
 },
 "nbformat": 4,
 "nbformat_minor": 2
}
